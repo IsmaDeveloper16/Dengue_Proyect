{
 "cells": [
  {
   "cell_type": "markdown",
   "metadata": {},
   "source": [
    "Importaré las librerias a utilizar"
   ]
  },
  {
   "cell_type": "code",
   "execution_count": 1,
   "metadata": {
    "metadata": {}
   },
   "outputs": [],
   "source": [
    "import pandas as pd"
   ]
  },
  {
   "cell_type": "markdown",
   "metadata": {},
   "source": [
    "Comenzare revisando los datasets que poseo"
   ]
  },
  {
   "cell_type": "code",
   "execution_count": 2,
   "metadata": {
    "metadata": {}
   },
   "outputs": [],
   "source": [
    "dengue_2020 = pd.read_excel('Datos/Dengue_2020.xlsx')"
   ]
  },
  {
   "cell_type": "markdown",
   "metadata": {},
   "source": [
    "Comenzare identificando las columnas que utilizare en mi analisis:\n",
    "\n",
    "-- provincia_nombre ---> provincia\n",
    "\n",
    "-- año\n",
    "\n",
    "-- evento_nombre ---> enfermedad\n",
    "\n",
    "-- grupo_edad_id ---> rango_etario\n",
    "\n",
    "-- cantidad_casos"
   ]
  },
  {
   "cell_type": "code",
   "execution_count": 3,
   "metadata": {
    "metadata": {}
   },
   "outputs": [],
   "source": [
    "dengue_2020.drop(columns=['departamento_id','departamento_nombre',\n",
    "                'provincia_id','semanas_epidemiologicas','grupo_edad_desc'],inplace=True)"
   ]
  },
  {
   "cell_type": "code",
   "execution_count": 4,
   "metadata": {
    "metadata": {}
   },
   "outputs": [],
   "source": [
    "dengue_2020.rename(columns={'provincia_nombre':'provincia','evento_nombre':'enfermedad',\n",
    "                'grupo_edad_id':'rango_etario'},inplace=True)"
   ]
  },
  {
   "cell_type": "markdown",
   "metadata": {},
   "source": [
    "Como este analisis sera enfocado solo en el Dengue decidí solo trabajar con casos de esta enfermedad"
   ]
  },
  {
   "cell_type": "code",
   "execution_count": 5,
   "metadata": {
    "metadata": {}
   },
   "outputs": [],
   "source": [
    "dengue_2020 = dengue_2020[dengue_2020['enfermedad'] == 'Dengue']"
   ]
  },
  {
   "cell_type": "markdown",
   "metadata": {},
   "source": [
    "Tambien decidí eliminar las provincias que no esten especificadas"
   ]
  },
  {
   "cell_type": "code",
   "execution_count": 6,
   "metadata": {
    "metadata": {}
   },
   "outputs": [],
   "source": [
    "dengue_2020 = dengue_2020[(dengue_2020['provincia'] != '*sin dato*') &\n",
    "                        (dengue_2020['provincia'] != '(en blanco)')]"
   ]
  },
  {
   "cell_type": "markdown",
   "metadata": {},
   "source": [
    "buscare y eliminare valores nulos o no especificados."
   ]
  },
  {
   "cell_type": "code",
   "execution_count": 7,
   "metadata": {
    "metadata": {}
   },
   "outputs": [
    {
     "data": {
      "text/plain": [
       "2                     De 25 a 34 anos\n",
       "3                     De 35 a 44 anos\n",
       "4                     De 45 a 65 anos\n",
       "9                     De 10 a 14 anos\n",
       "14                    De 20 a 24 anos\n",
       "18                      De 5 a 9 anos\n",
       "20                      De 2 a 4 anos\n",
       "25                    De 15 a 19 anos\n",
       "30                 Mayores de 65 anos\n",
       "39                    Sin Especificar\n",
       "49      Posneonato (de 29 a 365 días)\n",
       "60                   De 13 a 24 meses\n",
       "9836          Neonato (hasta 28 dias)\n",
       "Name: rango_etario, dtype: object"
      ]
     },
     "execution_count": 7,
     "metadata": {},
     "output_type": "execute_result"
    }
   ],
   "source": [
    "dengue_2020['rango_etario'].drop_duplicates()"
   ]
  },
  {
   "cell_type": "code",
   "execution_count": 8,
   "metadata": {
    "metadata": {}
   },
   "outputs": [],
   "source": [
    "dengue_2020 = dengue_2020[dengue_2020['rango_etario'] != 'Sin Especificar']"
   ]
  },
  {
   "cell_type": "markdown",
   "metadata": {},
   "source": [
    "Seguire con el año 2021"
   ]
  },
  {
   "cell_type": "code",
   "execution_count": 9,
   "metadata": {
    "metadata": {}
   },
   "outputs": [],
   "source": [
    "dengue_2021 = pd.read_excel('Datos/Dengue_2021.xlsx')"
   ]
  },
  {
   "cell_type": "markdown",
   "metadata": {},
   "source": [
    "Comenzare identificando las columnas que utilizare en mi analisis:\n",
    "\n",
    "-- provincia_id ---> provincia\n",
    "\n",
    "-- año\n",
    "\n",
    "-- evento_nombre ---> enfermedad\n",
    "\n",
    "-- grupo_edad_desc ---> rango_etario\n",
    "\n",
    "-- cantidad_casos"
   ]
  },
  {
   "cell_type": "code",
   "execution_count": 10,
   "metadata": {
    "metadata": {}
   },
   "outputs": [],
   "source": [
    "dengue_2021.drop(columns=['departamento_id','departamento_nombre',\n",
    "                'provincia_nombre','semanas_epidemiologicas','grupo_edad_id'],inplace=True)"
   ]
  },
  {
   "cell_type": "code",
   "execution_count": 11,
   "metadata": {
    "metadata": {}
   },
   "outputs": [],
   "source": [
    "dengue_2021.rename(columns={'provincia_id':'provincia', 'evento_nombre':'enfermedad',\n",
    "                            'grupo_edad_desc':'rango_etario'},inplace=True)"
   ]
  },
  {
   "cell_type": "markdown",
   "metadata": {},
   "source": [
    "me quedare con todos los casos de Dengue"
   ]
  },
  {
   "cell_type": "code",
   "execution_count": 12,
   "metadata": {
    "metadata": {}
   },
   "outputs": [],
   "source": [
    "dengue_2021 = dengue_2021[dengue_2021['enfermedad'] == 'Dengue']"
   ]
  },
  {
   "cell_type": "markdown",
   "metadata": {},
   "source": [
    "verificamos si contiene valores faltantes"
   ]
  },
  {
   "cell_type": "code",
   "execution_count": 13,
   "metadata": {
    "metadata": {}
   },
   "outputs": [
    {
     "data": {
      "text/plain": [
       "0       Buenos Aires\n",
       "11              CABA\n",
       "14         Catamarca\n",
       "17             Chaco\n",
       "19           Córdoba\n",
       "28        Corrientes\n",
       "40        Entre Ríos\n",
       "54           Formosa\n",
       "205            Jujuy\n",
       "301         La Pampa\n",
       "302         La Rioja\n",
       "472          Mendoza\n",
       "473         Misiones\n",
       "565            Salta\n",
       "1105        San Luis\n",
       "1111      SAnta Cruz\n",
       "1112        SAnta Fe\n",
       "1142         Tucumán\n",
       "Name: provincia, dtype: object"
      ]
     },
     "execution_count": 13,
     "metadata": {},
     "output_type": "execute_result"
    }
   ],
   "source": [
    "dengue_2021['provincia'].drop_duplicates()"
   ]
  },
  {
   "cell_type": "code",
   "execution_count": 14,
   "metadata": {
    "metadata": {}
   },
   "outputs": [
    {
     "data": {
      "text/plain": [
       "0                      De 15 a 19 anos\n",
       "1                        De 2 a 4 anos\n",
       "2                      De 25 a 34 anos\n",
       "5                      De 35 a 44 anos\n",
       "7                      De 45 a 65 anos\n",
       "10                       De 5 a 9 anos\n",
       "18             Neonato (hasta 28 dias)\n",
       "27                  Mayores de 65 anos\n",
       "28                     De 10 a 14 anos\n",
       "30                     De 20 a 24 anos\n",
       "67                    De 13 a 24 meses\n",
       "202     Posneonato (29 hasta 365 dias)\n",
       "623                    De 45 a 64 anos\n",
       "1064                     Edad Sin Esp.\n",
       "Name: rango_etario, dtype: object"
      ]
     },
     "execution_count": 14,
     "metadata": {},
     "output_type": "execute_result"
    }
   ],
   "source": [
    "#Aqui identificamos un valor sin especificar\n",
    "dengue_2021['rango_etario'].drop_duplicates()"
   ]
  },
  {
   "cell_type": "code",
   "execution_count": 15,
   "metadata": {
    "metadata": {}
   },
   "outputs": [],
   "source": [
    "#procedo a eliminar los que no estan especificados\n",
    "dengue_2021 = dengue_2021[dengue_2021['rango_etario'] != 'Sin Especificar']"
   ]
  },
  {
   "cell_type": "markdown",
   "metadata": {},
   "source": [
    "ya tengo terminado el primer dataset de 2021, continuare con el segundo dataset"
   ]
  },
  {
   "cell_type": "code",
   "execution_count": 16,
   "metadata": {
    "metadata": {}
   },
   "outputs": [],
   "source": [
    "dengue_2021_2 = pd.read_excel('Datos/Dengue_2021_2.xlsx')"
   ]
  },
  {
   "cell_type": "markdown",
   "metadata": {},
   "source": [
    "hare los mismos procedimientos con este dataset"
   ]
  },
  {
   "cell_type": "code",
   "execution_count": 17,
   "metadata": {
    "metadata": {}
   },
   "outputs": [
    {
     "data": {
      "text/html": [
       "<div>\n",
       "<style scoped>\n",
       "    .dataframe tbody tr th:only-of-type {\n",
       "        vertical-align: middle;\n",
       "    }\n",
       "\n",
       "    .dataframe tbody tr th {\n",
       "        vertical-align: top;\n",
       "    }\n",
       "\n",
       "    .dataframe thead th {\n",
       "        text-align: right;\n",
       "    }\n",
       "</style>\n",
       "<table border=\"1\" class=\"dataframe\">\n",
       "  <thead>\n",
       "    <tr style=\"text-align: right;\">\n",
       "      <th></th>\n",
       "      <th>departamento_id</th>\n",
       "      <th>departamento_nombre</th>\n",
       "      <th>provincia_id</th>\n",
       "      <th>provincia_nombre</th>\n",
       "      <th>año</th>\n",
       "      <th>semanas_epidemiologicas</th>\n",
       "      <th>evento_nombre</th>\n",
       "      <th>grupo_edad_id</th>\n",
       "      <th>grupo_edad_desc</th>\n",
       "      <th>cantidad_casos</th>\n",
       "    </tr>\n",
       "  </thead>\n",
       "  <tbody>\n",
       "    <tr>\n",
       "      <th>0</th>\n",
       "      <td>22140</td>\n",
       "      <td>San Fernando</td>\n",
       "      <td>22</td>\n",
       "      <td>Chaco</td>\n",
       "      <td>2021</td>\n",
       "      <td>18</td>\n",
       "      <td>Dengue</td>\n",
       "      <td>0</td>\n",
       "      <td>Neonato (hasta 28 dias)</td>\n",
       "      <td>1</td>\n",
       "    </tr>\n",
       "    <tr>\n",
       "      <th>1</th>\n",
       "      <td>34035</td>\n",
       "      <td>Patiño</td>\n",
       "      <td>34</td>\n",
       "      <td>Formosa</td>\n",
       "      <td>2021</td>\n",
       "      <td>6</td>\n",
       "      <td>Dengue</td>\n",
       "      <td>1</td>\n",
       "      <td>Posneonato (29 hasta 365 dias)</td>\n",
       "      <td>1</td>\n",
       "    </tr>\n",
       "    <tr>\n",
       "      <th>2</th>\n",
       "      <td>34035</td>\n",
       "      <td>Patiño</td>\n",
       "      <td>34</td>\n",
       "      <td>Formosa</td>\n",
       "      <td>2021</td>\n",
       "      <td>8</td>\n",
       "      <td>Dengue</td>\n",
       "      <td>1</td>\n",
       "      <td>Posneonato (29 hasta 365 dias)</td>\n",
       "      <td>1</td>\n",
       "    </tr>\n",
       "  </tbody>\n",
       "</table>\n",
       "</div>"
      ],
      "text/plain": [
       "  departamento_id departamento_nombre  provincia_id provincia_nombre   año  \\\n",
       "0           22140        San Fernando            22            Chaco  2021   \n",
       "1           34035              Patiño            34          Formosa  2021   \n",
       "2           34035              Patiño            34          Formosa  2021   \n",
       "\n",
       "   semanas_epidemiologicas evento_nombre grupo_edad_id  \\\n",
       "0                       18        Dengue             0   \n",
       "1                        6        Dengue             1   \n",
       "2                        8        Dengue             1   \n",
       "\n",
       "                  grupo_edad_desc  cantidad_casos  \n",
       "0         Neonato (hasta 28 dias)               1  \n",
       "1  Posneonato (29 hasta 365 dias)               1  \n",
       "2  Posneonato (29 hasta 365 dias)               1  "
      ]
     },
     "execution_count": 17,
     "metadata": {},
     "output_type": "execute_result"
    }
   ],
   "source": [
    "dengue_2021_2.head(3)"
   ]
  },
  {
   "cell_type": "markdown",
   "metadata": {},
   "source": [
    "Comenzare identificando las columnas que utilizare en mi analisis:\n",
    "\n",
    "-- provincia_nombre ---> provincia\n",
    "\n",
    "-- año\n",
    "\n",
    "-- evento_nombre ---> enfermedad\n",
    "\n",
    "-- grupo_edad_desc ---> rango_etario\n",
    "\n",
    "-- cantidad_casos"
   ]
  },
  {
   "cell_type": "code",
   "execution_count": 18,
   "metadata": {
    "metadata": {}
   },
   "outputs": [],
   "source": [
    "dengue_2021_2.drop(columns=['departamento_id','departamento_nombre',\n",
    "                'provincia_id','semanas_epidemiologicas','grupo_edad_id'],inplace=True)"
   ]
  },
  {
   "cell_type": "code",
   "execution_count": 19,
   "metadata": {
    "metadata": {}
   },
   "outputs": [],
   "source": [
    "dengue_2021_2.rename(columns={'provincia_nombre':'provincia', 'evento_nombre':'enfermedad',\n",
    "                            'grupo_edad_desc':'rango_etario'},inplace=True)"
   ]
  },
  {
   "cell_type": "markdown",
   "metadata": {},
   "source": [
    "buscare valores faltantes en algunas columnas, las demas columnas al tener poca variacion lo que hago es utlilizar una extencion llamada Data Wrangler para verificar valores faltantes"
   ]
  },
  {
   "cell_type": "code",
   "execution_count": 20,
   "metadata": {
    "metadata": {}
   },
   "outputs": [
    {
     "data": {
      "text/plain": [
       "0             Chaco\n",
       "1           Formosa\n",
       "4          La Rioja\n",
       "5          Misiones\n",
       "6             Salta\n",
       "18       Entre Ríos\n",
       "22            Jujuy\n",
       "45     Buenos Aires\n",
       "118        San Luis\n",
       "119      Corrientes\n",
       "216        Santa Fe\n",
       "217         Tucumán\n",
       "220            CABA\n",
       "222         Córdoba\n",
       "251        La Pampa\n",
       "528         Mendoza\n",
       "775       Catamarca\n",
       "Name: provincia, dtype: object"
      ]
     },
     "execution_count": 20,
     "metadata": {},
     "output_type": "execute_result"
    }
   ],
   "source": [
    "dengue_2021_2['provincia'].drop_duplicates()"
   ]
  },
  {
   "cell_type": "code",
   "execution_count": 21,
   "metadata": {
    "metadata": {}
   },
   "outputs": [
    {
     "data": {
      "text/plain": [
       "0              Neonato (hasta 28 dias)\n",
       "1       Posneonato (29 hasta 365 dias)\n",
       "11                    De 13 a 24 meses\n",
       "18                       De 2 a 4 anos\n",
       "45                       De 5 a 9 anos\n",
       "119                    De 10 a 14 anos\n",
       "220                    De 15 a 19 anos\n",
       "340                    De 20 a 24 anos\n",
       "458                    De 25 a 34 anos\n",
       "629                    De 35 a 44 anos\n",
       "772                    De 45 a 65 anos\n",
       "916                 Mayores de 65 anos\n",
       "999                    De 45 a 64 anos\n",
       "1114                     Edad Sin Esp.\n",
       "Name: rango_etario, dtype: object"
      ]
     },
     "execution_count": 21,
     "metadata": {},
     "output_type": "execute_result"
    }
   ],
   "source": [
    "#aqui encontre edades sin especificar\n",
    "dengue_2021_2['rango_etario'].drop_duplicates()"
   ]
  },
  {
   "cell_type": "code",
   "execution_count": 22,
   "metadata": {
    "metadata": {}
   },
   "outputs": [],
   "source": [
    "dengue_2021_2 = dengue_2021_2[dengue_2021_2['rango_etario'] != 'Edad Sin Esp.']"
   ]
  },
  {
   "cell_type": "markdown",
   "metadata": {},
   "source": [
    "Seguire con el año 2022"
   ]
  },
  {
   "cell_type": "code",
   "execution_count": 23,
   "metadata": {
    "metadata": {}
   },
   "outputs": [],
   "source": [
    "dengue_2022 = pd.read_csv('Datos/Dengue_2022.csv', sep=';',encoding='latin-1')"
   ]
  },
  {
   "cell_type": "markdown",
   "metadata": {},
   "source": [
    "identificaré las columnas que utilizare en mi analisis:\n",
    "\n",
    "-- provincia_nombre ---> provincia\n",
    "\n",
    "-- año\n",
    "\n",
    "-- evento_nombre ---> enfermedad\n",
    "\n",
    "-- grupo_edad_desc ---> rango_etario\n",
    "\n",
    "-- cantidad_casos"
   ]
  },
  {
   "cell_type": "code",
   "execution_count": 24,
   "metadata": {
    "metadata": {}
   },
   "outputs": [],
   "source": [
    "dengue_2022.drop(columns=['departamento_id','departamento_nombre',\n",
    "                'provincia_id','semanas_epidemiologicas','grupo_edad_id'],inplace=True)"
   ]
  },
  {
   "cell_type": "code",
   "execution_count": 25,
   "metadata": {
    "metadata": {}
   },
   "outputs": [],
   "source": [
    "dengue_2022.rename(columns={'provincia_nombre':'provincia','evento_nombre':'enfermedad',\n",
    "                            'grupo_edad_desc':'rango_etario'}, inplace=True)"
   ]
  },
  {
   "cell_type": "markdown",
   "metadata": {},
   "source": [
    "Buscamos valores faltantes"
   ]
  },
  {
   "cell_type": "code",
   "execution_count": 26,
   "metadata": {
    "metadata": {}
   },
   "outputs": [
    {
     "data": {
      "text/plain": [
       "0                     CABA\n",
       "8             Buenos Aires\n",
       "93               Catamarca\n",
       "95                 Córdoba\n",
       "103             Corrientes\n",
       "104                Mendoza\n",
       "107               Misiones\n",
       "108                  Salta\n",
       "261               San Luis\n",
       "262               Santa Fe\n",
       "289    Santiago del Estero\n",
       "Name: provincia, dtype: object"
      ]
     },
     "execution_count": 26,
     "metadata": {},
     "output_type": "execute_result"
    }
   ],
   "source": [
    "dengue_2022['provincia'].drop_duplicates()"
   ]
  },
  {
   "cell_type": "code",
   "execution_count": 27,
   "metadata": {
    "metadata": {}
   },
   "outputs": [
    {
     "data": {
      "text/plain": [
       "0                     De 45 a 65 años\n",
       "1                     De 20 a 24 años\n",
       "2                     De 35 a 44 años\n",
       "3                     De 10 a 14 años\n",
       "9                     De 25 a 34 años\n",
       "11                      De 5 a 9 años\n",
       "13                 Mayores de 65 años\n",
       "21                    De 15 a 19 años\n",
       "29                      De 2 a 4 años\n",
       "123                  De 13 a 24 meses\n",
       "216    Posneonato (29 hasta 365 dias)\n",
       "Name: rango_etario, dtype: object"
      ]
     },
     "execution_count": 27,
     "metadata": {},
     "output_type": "execute_result"
    }
   ],
   "source": [
    "dengue_2022['rango_etario'].drop_duplicates()"
   ]
  },
  {
   "cell_type": "code",
   "execution_count": 28,
   "metadata": {
    "metadata": {}
   },
   "outputs": [
    {
     "data": {
      "text/plain": [
       "0       1\n",
       "6       2\n",
       "24      3\n",
       "42      6\n",
       "54      4\n",
       "67      5\n",
       "114    10\n",
       "115     8\n",
       "116     9\n",
       "146    11\n",
       "157     7\n",
       "159    14\n",
       "161    13\n",
       "162    15\n",
       "175    19\n",
       "189    16\n",
       "192    12\n",
       "Name: cantidad_casos, dtype: int64"
      ]
     },
     "execution_count": 28,
     "metadata": {},
     "output_type": "execute_result"
    }
   ],
   "source": [
    "dengue_2022['cantidad_casos'].drop_duplicates()"
   ]
  },
  {
   "cell_type": "markdown",
   "metadata": {},
   "source": [
    "pasamos al 2023"
   ]
  },
  {
   "cell_type": "code",
   "execution_count": 29,
   "metadata": {
    "metadata": {}
   },
   "outputs": [],
   "source": [
    "dengue_2023 = pd.read_excel('Datos/Dengue_2023.xlsx')"
   ]
  },
  {
   "cell_type": "markdown",
   "metadata": {},
   "source": [
    "identificaré las columnas que utilizare en mi analisis:\n",
    "\n",
    "-- PROVINCIA_RESIDENCIA ---> provincia\n",
    "\n",
    "-- ANIO_MIN ---> año\n",
    "\n",
    "-- EVENTO ---> enfermedad\n",
    "\n",
    "-- GRUPO_ETARIO ---> rango_etario\n",
    "\n",
    "-- CANTIDAD ---> cantidad_casos"
   ]
  },
  {
   "cell_type": "code",
   "execution_count": null,
   "metadata": {
    "metadata": {}
   },
   "outputs": [],
   "source": [
    "dengue_2023.drop(columns=['ID_DEPTO_INDEC_RESIDENCIA','DEPARTAMENTO_RESIDENCIA',\n",
    "                'ID_PROV_INDEC_RESIDENCIA','ID_GRUPO_ETARIO','SEPI_MIN'],inplace=True)"
   ]
  },
  {
   "cell_type": "code",
   "execution_count": null,
   "metadata": {
    "metadata": {}
   },
   "outputs": [],
   "source": [
    "dengue_2023.rename(columns={'PROVINCIA_RESIDENCIA':'provincia','ANIO_MIN':'año','EVENTO':'enfermedad',\n",
    "                    'GRUPO_ETARIO':'rango_etario','CANTIDAD':'cantidad_casos'},inplace=True)"
   ]
  },
  {
   "cell_type": "markdown",
   "metadata": {},
   "source": [
    "Buscaremos valores faltantes y eliminaremos faltantes"
   ]
  },
  {
   "cell_type": "code",
   "execution_count": null,
   "metadata": {
    "metadata": {}
   },
   "outputs": [],
   "source": [
    "dengue_2023 = dengue_2023.dropna()"
   ]
  },
  {
   "cell_type": "code",
   "execution_count": null,
   "metadata": {
    "metadata": {}
   },
   "outputs": [
    {
     "data": {
      "text/plain": [
       "158                    De 10 a 14 años\n",
       "164                   De 13 a 24 meses\n",
       "165                    De 15 a 19 años\n",
       "173                      De 2 a 4 años\n",
       "176                    De 20 a 24 años\n",
       "184                    De 25 a 34 años\n",
       "195                    De 35 a 44 años\n",
       "203                    De 45 a 65 años\n",
       "210                      De 5 a 9 años\n",
       "212                 Mayores de 65 años\n",
       "259     Posneonato (29 hasta 365 días)\n",
       "3027                   Sin Especificar\n",
       "3777           Neonato (hasta 28 días)\n",
       "Name: rango_etario, dtype: object"
      ]
     },
     "execution_count": 31,
     "metadata": {},
     "output_type": "execute_result"
    }
   ],
   "source": [
    "dengue_2023['rango_etario'].drop_duplicates()"
   ]
  },
  {
   "cell_type": "code",
   "execution_count": null,
   "metadata": {
    "metadata": {}
   },
   "outputs": [],
   "source": [
    "dengue_2023 = dengue_2023[dengue_2023['rango_etario'] != 'Sin Especificar']"
   ]
  },
  {
   "cell_type": "markdown",
   "metadata": {},
   "source": [
    "procedemos con el año 2024"
   ]
  },
  {
   "cell_type": "code",
   "execution_count": null,
   "metadata": {
    "metadata": {}
   },
   "outputs": [],
   "source": [
    "dengue_2024 = pd.read_excel('Datos/Dengue_2024.xlsx')"
   ]
  },
  {
   "cell_type": "markdown",
   "metadata": {},
   "source": [
    "identificaré las columnas que utilizare en mi analisis:\n",
    "\n",
    "-- PROVINCIA_RESIDENCIA ---> provincia\n",
    "\n",
    "-- ANIO_MIN ---> año\n",
    "\n",
    "-- EVENTO ---> enfermedad\n",
    "\n",
    "-- GRUPO_ETARIO ---> rango_etario\n",
    "\n",
    "-- CANTIDAD ---> cantidad_casos"
   ]
  },
  {
   "cell_type": "code",
   "execution_count": null,
   "metadata": {
    "metadata": {}
   },
   "outputs": [],
   "source": [
    "dengue_2024.drop(columns=['ID_DEPTO_INDEC_RESIDENCIA','DEPARTAMENTO_RESIDENCIA',\n",
    "                'ID_PROV_INDEC_RESIDENCIA','ID_GRUPO_ETARIO','SEPI_MIN'],inplace=True)"
   ]
  },
  {
   "cell_type": "code",
   "execution_count": null,
   "metadata": {
    "metadata": {}
   },
   "outputs": [],
   "source": [
    "dengue_2024.rename(columns={'PROVINCIA_RESIDENCIA':'provincia','ANIO_MIN':'año','EVENTO':'enfermedad',\n",
    "                    'GRUPO_ETARIO':'rango_etario','CANTIDAD':'cantidad_casos'},inplace=True)"
   ]
  },
  {
   "cell_type": "markdown",
   "metadata": {},
   "source": [
    "buscaré valores nulos"
   ]
  },
  {
   "cell_type": "code",
   "execution_count": null,
   "metadata": {
    "metadata": {}
   },
   "outputs": [
    {
     "data": {
      "text/plain": [
       "0                        NaN\n",
       "111                     CABA\n",
       "180             Buenos Aires\n",
       "203                  Córdoba\n",
       "220               Corrientes\n",
       "227                    Chaco\n",
       "233               Entre Ríos\n",
       "234                  Formosa\n",
       "241                    Jujuy\n",
       "242                  Mendoza\n",
       "243                    Salta\n",
       "245      Santiago del Estero\n",
       "249                  Tucumán\n",
       "263         Tierra del Fuego\n",
       "5172               Catamarca\n",
       "9472                  Chubut\n",
       "11449               La Pampa\n",
       "11558               La Rioja\n",
       "11984               Misiones\n",
       "12960                Neuquén\n",
       "13002              Río Negro\n",
       "13677               San Juan\n",
       "13899               San Luis\n",
       "14079             Santa Cruz\n",
       "14190               Santa Fe\n",
       "Name: provincia, dtype: object"
      ]
     },
     "execution_count": 36,
     "metadata": {},
     "output_type": "execute_result"
    }
   ],
   "source": [
    "dengue_2024['provincia'].drop_duplicates()"
   ]
  },
  {
   "cell_type": "markdown",
   "metadata": {},
   "source": [
    "eliminaré valores faltantes"
   ]
  },
  {
   "cell_type": "code",
   "execution_count": null,
   "metadata": {
    "metadata": {}
   },
   "outputs": [],
   "source": [
    "dengue_2024.dropna(inplace=True)"
   ]
  },
  {
   "cell_type": "code",
   "execution_count": null,
   "metadata": {
    "metadata": {}
   },
   "outputs": [
    {
     "data": {
      "text/plain": [
       "111                    De 10 a 14 años\n",
       "118                   De 13 a 24 meses\n",
       "119                    De 15 a 19 años\n",
       "128                      De 2 a 4 años\n",
       "129                    De 20 a 24 años\n",
       "139                    De 25 a 34 años\n",
       "148                    De 35 a 44 años\n",
       "157                    De 45 a 65 años\n",
       "166                      De 5 a 9 años\n",
       "171                 Mayores de 65 años\n",
       "443     Posneonato (29 hasta 365 días)\n",
       "1562           Neonato (hasta 28 días)\n",
       "1568                   Sin Especificar\n",
       "Name: rango_etario, dtype: object"
      ]
     },
     "execution_count": 38,
     "metadata": {},
     "output_type": "execute_result"
    }
   ],
   "source": [
    "dengue_2024['rango_etario'].drop_duplicates()"
   ]
  },
  {
   "cell_type": "code",
   "execution_count": null,
   "metadata": {
    "metadata": {}
   },
   "outputs": [],
   "source": [
    "dengue_2024 = dengue_2024[dengue_2024['rango_etario'] != 'Sin Especificar']"
   ]
  },
  {
   "cell_type": "markdown",
   "metadata": {},
   "source": [
    "Aqui unire todos los dataframes que poseo y los agrupare sumando las cantidad de casos."
   ]
  },
  {
   "cell_type": "code",
   "execution_count": null,
   "metadata": {
    "metadata": {}
   },
   "outputs": [],
   "source": [
    "\n",
    "lista_dfs = [dengue_2020,dengue_2021,dengue_2022,dengue_2023,dengue_2024]\n",
    "\n",
    "df_final = lista_dfs[0]\n",
    "\n",
    "for df in lista_dfs[1:]:\n",
    "    df_final = pd.merge(df_final, df, on=['provincia', 'año', 'enfermedad', 'rango_etario','cantidad_casos'], how='outer')\n"
   ]
  },
  {
   "cell_type": "code",
   "execution_count": null,
   "metadata": {
    "metadata": {}
   },
   "outputs": [],
   "source": [
    "df_agrupado = df_final.groupby(['provincia', 'año', 'enfermedad', 'rango_etario'], as_index=False)['cantidad_casos'].sum()"
   ]
  },
  {
   "cell_type": "markdown",
   "metadata": {},
   "source": [
    "exportare mi dataframe en un archivo csv para realizar un analisis con PowerBI."
   ]
  },
  {
   "cell_type": "code",
   "execution_count": null,
   "metadata": {
    "metadata": {}
   },
   "outputs": [],
   "source": [
    "df_agrupado.to_csv('New_datos/reporte_dengue.csv', index=False)"
   ]
  }
 ],
 "metadata": {
  "kernelspec": {
   "display_name": "Python 3",
   "language": "python",
   "name": "python3"
  },
  "language_info": {
   "codemirror_mode": {
    "name": "ipython",
    "version": 3
   },
   "file_extension": ".py",
   "mimetype": "text/x-python",
   "name": "python",
   "nbconvert_exporter": "python",
   "pygments_lexer": "ipython3",
   "version": "3.10.11"
  }
 },
 "nbformat": 4,
 "nbformat_minor": 2
}
